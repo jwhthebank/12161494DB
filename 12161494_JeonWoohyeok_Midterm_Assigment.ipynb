{
  "nbformat": 4,
  "nbformat_minor": 0,
  "metadata": {
    "colab": {
      "provenance": [],
      "collapsed_sections": [],
      "authorship_tag": "ABX9TyPbt49yU4aFrqEvtC3uljUA",
      "include_colab_link": true
    },
    "kernelspec": {
      "name": "python3",
      "display_name": "Python 3"
    },
    "language_info": {
      "name": "python"
    }
  },
  "cells": [
    {
      "cell_type": "markdown",
      "metadata": {
        "id": "view-in-github",
        "colab_type": "text"
      },
      "source": [
        "<a href=\"https://colab.research.google.com/github/jwhthebank/12161494DB/blob/main/12161494_JeonWoohyeok_Midterm_Assigment.ipynb\" target=\"_parent\"><img src=\"https://colab.research.google.com/assets/colab-badge.svg\" alt=\"Open In Colab\"/></a>"
      ]
    },
    {
      "cell_type": "markdown",
      "source": [
        "# **Import SQL**"
      ],
      "metadata": {
        "id": "IZ8XeCWNEobf"
      }
    },
    {
      "cell_type": "code",
      "execution_count": 9,
      "metadata": {
        "colab": {
          "base_uri": "https://localhost:8080/"
        },
        "id": "O7jgOk0KuauR",
        "outputId": "75a85b8f-3091-464f-cf6b-ee8afe43f871"
      },
      "outputs": [
        {
          "output_type": "stream",
          "name": "stdout",
          "text": [
            "2.6.0\n",
            "<class 'sqlite3.Connection'>\n",
            "<class 'sqlite3.Connection'>\n"
          ]
        }
      ],
      "source": [
        "import sqlite3\n",
        "print(sqlite3.version)\n",
        "conn = sqlite3.connect('ITSMidtermv2.db')\n",
        "print(type(conn))\n",
        "print(sqlite3.Connection)\n",
        "\n",
        "cur = conn.cursor()"
      ]
    },
    {
      "cell_type": "markdown",
      "source": [
        "# **Create Table**"
      ],
      "metadata": {
        "id": "SNAPOrrWUQEX"
      }
    },
    {
      "cell_type": "code",
      "source": [
        "# Create Table\n",
        "cur.execute(\"\"\"\n",
        "CREATE TABLE [Country]\n",
        "( \n",
        "\t[Country_Code]       varchar(50) NOT NULL ,\n",
        "\t[Name]               varchar(50)  NOT NULL ,\n",
        "\t[Language]           varchar(50)  NOT NULL \n",
        ")\n",
        "\"\"\")\n",
        "\n",
        "cur.execute(\"\"\"\n",
        "CREATE TABLE [Driver]\n",
        "( \n",
        "\t[License_Number]     varchar(50) NOT NULL ,\n",
        "\t[Name]               varchar(50)  NOT NULL ,\n",
        "\t[Language]           varchar(50)  NOT NULL ,\n",
        "\t[Clearance_Level]    integer  NOT NULL \n",
        "  \tCONSTRAINT [1_4]\n",
        "\t\tCHECK  ( Clearance_Level BETWEEN 1 AND 4 ), \n",
        "\t[Additive_License]   varchar(50)  NULL \n",
        ")\n",
        "\"\"\")\n",
        "\n",
        "# Resolution Table for M:M relation Driver_Driving_Data to Drivier_Officer\n",
        "cur.execute(\"\"\"\n",
        "CREATE TABLE [Driver_Driving_Data]\n",
        "( \n",
        "\t[License_Number]     varchar(50)  NOT NULL ,\n",
        "\t[Reference_Code]     varchar(50)  NOT NULL \n",
        ")\n",
        "\"\"\")\n",
        "\n",
        "cur.execute(\"\"\"\n",
        "CREATE TABLE [Driver_Officer]\n",
        "( \n",
        "\t[License_Number]     varchar(50)  NOT NULL ,\n",
        "\t[Officer_Id]         varchar(50)  NOT NULL \n",
        ")\n",
        "\"\"\")\n",
        "\n",
        "cur.execute(\"\"\"\n",
        "CREATE TABLE [Driving_Data]\n",
        "( \n",
        "\t[Reference_Code]     varchar(50) NOT NULL ,\n",
        "\t[Pickup_Location_Name] varchar(50)  NULL ,\n",
        "\t[Dropoff_Location_Name] varchar(50)  NULL ,\n",
        "\t[Acutal_Start_Date_time] DATETIME  NULL ,\n",
        "\t[Acutal_End_Date_time] DATETIME  NULL ,\n",
        "\t[Odometer_Start_Date_time] DATETIME  NULL ,\n",
        "\t[Odometer_End_Date_time] DATETIME  NULL \n",
        ")\n",
        "\"\"\")\n",
        "\n",
        "cur.execute(\"\"\"\n",
        "CREATE TABLE [FATL]\n",
        "( \n",
        "\t[FATL_Number]        integer  NOT NULL ,\n",
        "\t[Level]              integer  NOT NULL \n",
        "\tCONSTRAINT [1_10]\n",
        "\t\tCHECK  ( Level BETWEEN 1 AND 10 ),\n",
        "\t[Qualification_Date] DATE  NOT NULL \n",
        ")\n",
        "\"\"\")\n",
        "\n",
        "cur.execute(\"\"\"\n",
        "CREATE TABLE [Incheon]\n",
        "( \n",
        "\t[Location_Name]      varchar(50) NOT NULL ,\n",
        "\t[Type]               varchar(50)  NULL ,\n",
        "\t[Address]            varchar(50)  NOT NULL \n",
        ")\n",
        "\"\"\")\n",
        "\n",
        "cur.execute(\"\"\"\n",
        "CREATE TABLE [Officer]\n",
        "( \n",
        "\t[Officer_Id]         varchar(50)  NOT NULL ,\n",
        "\t[Name]               varchar(50)  NOT NULL ,\n",
        "\t[Role]               varchar(50)  NOT NULL ,\n",
        "\t[Model]              varchar(50)  NOT NULL ,\n",
        "\t[Country_Code]       varchar(50)  NOT NULL ,\n",
        "\t[Language]           varchar(50)  NOT NULL \n",
        ")\n",
        "\"\"\")\n",
        "\n",
        "cur.execute(\"\"\"\n",
        "CREATE TABLE [Order]\n",
        "( \n",
        "\t[Action_Type]        varchar(50)  NULL ,\n",
        "\t[Order_Date]         DATETIME  NULL ,\n",
        "\t[Final_Cost]         varchar(50)  NULL ,\n",
        "\t[Final_Odometer]     integer  NULL ,\n",
        "\t[Description]        varchar(50)  NULL ,\n",
        "\t[End_Date]           DATETIME  NULL \n",
        ")\n",
        "\"\"\")\n",
        "\n",
        "cur.execute(\"\"\"\n",
        "CREATE TABLE [STLVT]\n",
        "( \n",
        "\t[STLVT_Number]       integer  NOT NULL ,\n",
        "\t[Level]              integer  NOT NULL \n",
        "\tCONSTRAINT [1_5]\n",
        "\t\tCHECK  ( Level BETWEEN 1 AND 5 ),\n",
        "\t[Qualification_Date] DATE  NOT NULL ,\n",
        "\t[Authorizing_Agency] varchar(50)  NOT NULL \n",
        ")\n",
        "\"\"\")\n",
        "\n",
        "cur.execute(\"\"\"\n",
        "CREATE TABLE [Vehicle]\n",
        "( \n",
        "\t[Vehicle_Id]         varchar(50)  NOT NULL ,\n",
        "\t[Registration_Id]    varchar(50)  NULL ,\n",
        "\t[Status]             varchar(50)  NULL ,\n",
        "\t[Manufacturer]              varchar(50)  NULL ,\n",
        "\t[Model]              varchar(50)  NULL ,\n",
        "\t[Color]       varchar(50)  NULL ,\n",
        "\t[Current_Odometer]   integer  NULL ,\n",
        "\t[Passenger_Capacity] integer  NULL \n",
        ")\n",
        "\"\"\")\n",
        "\n",
        "conn.commit()"
      ],
      "metadata": {
        "id": "Nf9U3da8S2At"
      },
      "execution_count": 10,
      "outputs": []
    },
    {
      "cell_type": "markdown",
      "source": [
        "# **Insert Data**"
      ],
      "metadata": {
        "id": "mZerMqH2bmkJ"
      }
    },
    {
      "cell_type": "code",
      "source": [
        "#Insert Data to Vehicle Table\n",
        "cur.execute(\"\"\"INSERT INTO Vehicle VALUES('V1000', '2001 ABC','Y','Volvo','XC90 SE','Silver',4350,4)\"\"\")\n",
        "cur.execute(\"\"\"INSERT INTO Vehicle VALUES('V1001', '2006 AFD','Y','Kia','K7','Black',2195,4)\"\"\")\n",
        "cur.execute(\"\"\"INSERT INTO Vehicle VALUES('V1002', '2021 AHR','N','Tesla','2020 F','White',509,2)\"\"\")\n",
        "cur.execute(\"\"\"INSERT INTO Vehicle VALUES('V1003', '2020 DXF','Y','Ford','Transit','Silver',974,2)\"\"\")\n",
        "\n",
        "conn.commit()"
      ],
      "metadata": {
        "id": "oJshbknh0LRB"
      },
      "execution_count": 11,
      "outputs": []
    },
    {
      "cell_type": "code",
      "source": [
        "#Insert Data to County Table by National Code 3 digits, Lauguage code ISO 3611\n",
        "cur.execute(\"\"\"INSERT INTO Country VALUES('410','Korea','KR')\"\"\") \n",
        "cur.execute(\"\"\"INSERT INTO Country VALUES('840','USA','EN')\"\"\") \n",
        "conn.commit()"
      ],
      "metadata": {
        "id": "o-1-QqMblwvy"
      },
      "execution_count": 17,
      "outputs": []
    },
    {
      "cell_type": "code",
      "source": [
        "#Insert Data to Driver Table\n",
        "cur.execute(\"\"\"INSERT INTO Driver VALUES('15-32-23333','KIM MINSU','KR,EN','4','FATL')\"\"\")\n",
        "cur.execute(\"\"\"INSERT INTO Driver VALUES('10-15-13453','KIM CHEOLSU','KR','2','FATL,STLVT')\"\"\")\n",
        "\n",
        "conn.commit()"
      ],
      "metadata": {
        "id": "E-QJ05tf0Ip8"
      },
      "execution_count": 19,
      "outputs": []
    },
    {
      "cell_type": "code",
      "source": [
        "#Insert Data to Driving Data Table\n",
        "cur.execute(\"\"\"INSERT INTO Driving_Data VALUES('2D122','Michuhol 123-11','Bupyeong 111-22','2022-05-30 16:22','2022-05-30 17:52','2022-05-30 16:22','2022-05-30 17:52')\"\"\")\n",
        "cur.execute(\"\"\"INSERT INTO Driving_Data VALUES('3D001','Songdo 222-12','Geyang 569-33','2022-05-28 17:22','2022-05-30 18:30','2022-05-29 15:22','2022-05-30 16:52')\"\"\")\n",
        "\n",
        "conn.commit()"
      ],
      "metadata": {
        "id": "5zm9KL960JQi"
      },
      "execution_count": 23,
      "outputs": []
    },
    {
      "cell_type": "code",
      "source": [
        "#Insert Data to FATL Table\n",
        "cur.execute(\"\"\"INSERT INTO FATL VALUES('FATL-10122','3','2022-03-11')\"\"\")\n",
        "cur.execute(\"\"\"INSERT INTO FATL VALUES('FATL-10222','4','2022-03-11')\"\"\")\n",
        "\n",
        "conn.commit()"
      ],
      "metadata": {
        "id": "g04DQtzO0Jag"
      },
      "execution_count": 25,
      "outputs": []
    },
    {
      "cell_type": "code",
      "source": [
        "#Insert Data to STLVT Table\n",
        "cur.execute(\"\"\"INSERT INTO STLVT VALUES('STLVT-10112','3','2022-03-11','Michuhol Police Station')\"\"\")\n",
        "cur.execute(\"\"\"INSERT INTO STLVT VALUES('STLVT-10212','5','2022-03-21','Foreign Ambassy')\"\"\")\n",
        "\n",
        "conn.commit()"
      ],
      "metadata": {
        "id": "V036319m0J3u"
      },
      "execution_count": 26,
      "outputs": []
    },
    {
      "cell_type": "code",
      "source": [
        "#Insert Data to Incheon Table\n",
        "cur.execute(\"\"\"INSERT INTO Incheon VALUES('Michuhol 123-11', 'Hotel','100, Inha-ro, Michuhol-gu, Incheon, Republic of Korea')\"\"\")\n",
        "cur.execute(\"\"\"INSERT INTO Incheon VALUES('Songdo 222-12', 'Stadium','20, Songdogyoyuk-ro, Yeonsu-gu, Incheon, Republic of Korea')\"\"\")\n",
        "\n",
        "conn.commit()"
      ],
      "metadata": {
        "id": "XBlKcKfI0Jhh"
      },
      "execution_count": 27,
      "outputs": []
    },
    {
      "cell_type": "code",
      "source": [
        "#Insert Data to Officer Table\n",
        "cur.execute(\"\"\"INSERT INTO Officer VALUES('10-00-2222','James Bond','Referee','XC90 SE','840','EN')\"\"\")\n",
        "cur.execute(\"\"\"INSERT INTO Officer VALUES('21-00-4422','YUNA PARK','Referee','K7','410','KR')\"\"\")\n",
        "\n",
        "conn.commit()"
      ],
      "metadata": {
        "id": "mUhap7o60JpM"
      },
      "execution_count": 28,
      "outputs": []
    },
    {
      "cell_type": "markdown",
      "source": [
        "# **Show Data**"
      ],
      "metadata": {
        "id": "EJBbpkUYp2QZ"
      }
    },
    {
      "cell_type": "code",
      "source": [
        "import pandas as pd\n",
        "\n",
        "cur.execute(\"SELECT * FROM Vehicle\")\n",
        "\n",
        "rows = cur.fetchall()\n",
        "\n",
        "columns = [column[0] for column in cur.description]\n",
        "\n",
        "frame = pd.DataFrame.from_records(data=rows, columns=columns)\n",
        "\n",
        "conn.close()\n",
        "\n",
        "frame"
      ],
      "metadata": {
        "colab": {
          "base_uri": "https://localhost:8080/",
          "height": 175
        },
        "id": "pJJEROmYcChk",
        "outputId": "c466031d-f74a-429a-da68-00938ee9bc3c"
      },
      "execution_count": 42,
      "outputs": [
        {
          "output_type": "execute_result",
          "data": {
            "text/plain": [
              "  Vehicle_Id Registration_Id Status Manufacturer    Model   Color  \\\n",
              "0      V1000        2001 ABC      Y        Volvo  XC90 SE  Silver   \n",
              "1      V1001        2006 AFD      Y          Kia       K7   Black   \n",
              "2      V1002        2021 AHR      N        Tesla   2020 F   White   \n",
              "3      V1003        2020 DXF      Y         Ford  Transit  Silver   \n",
              "\n",
              "   Current_Odometer  Passenger_Capacity  \n",
              "0              4350                   4  \n",
              "1              2195                   4  \n",
              "2               509                   2  \n",
              "3               974                   2  "
            ],
            "text/html": [
              "\n",
              "  <div id=\"df-deb43c5e-8ddb-4de5-9abf-5fb7afbc8e44\">\n",
              "    <div class=\"colab-df-container\">\n",
              "      <div>\n",
              "<style scoped>\n",
              "    .dataframe tbody tr th:only-of-type {\n",
              "        vertical-align: middle;\n",
              "    }\n",
              "\n",
              "    .dataframe tbody tr th {\n",
              "        vertical-align: top;\n",
              "    }\n",
              "\n",
              "    .dataframe thead th {\n",
              "        text-align: right;\n",
              "    }\n",
              "</style>\n",
              "<table border=\"1\" class=\"dataframe\">\n",
              "  <thead>\n",
              "    <tr style=\"text-align: right;\">\n",
              "      <th></th>\n",
              "      <th>Vehicle_Id</th>\n",
              "      <th>Registration_Id</th>\n",
              "      <th>Status</th>\n",
              "      <th>Manufacturer</th>\n",
              "      <th>Model</th>\n",
              "      <th>Color</th>\n",
              "      <th>Current_Odometer</th>\n",
              "      <th>Passenger_Capacity</th>\n",
              "    </tr>\n",
              "  </thead>\n",
              "  <tbody>\n",
              "    <tr>\n",
              "      <th>0</th>\n",
              "      <td>V1000</td>\n",
              "      <td>2001 ABC</td>\n",
              "      <td>Y</td>\n",
              "      <td>Volvo</td>\n",
              "      <td>XC90 SE</td>\n",
              "      <td>Silver</td>\n",
              "      <td>4350</td>\n",
              "      <td>4</td>\n",
              "    </tr>\n",
              "    <tr>\n",
              "      <th>1</th>\n",
              "      <td>V1001</td>\n",
              "      <td>2006 AFD</td>\n",
              "      <td>Y</td>\n",
              "      <td>Kia</td>\n",
              "      <td>K7</td>\n",
              "      <td>Black</td>\n",
              "      <td>2195</td>\n",
              "      <td>4</td>\n",
              "    </tr>\n",
              "    <tr>\n",
              "      <th>2</th>\n",
              "      <td>V1002</td>\n",
              "      <td>2021 AHR</td>\n",
              "      <td>N</td>\n",
              "      <td>Tesla</td>\n",
              "      <td>2020 F</td>\n",
              "      <td>White</td>\n",
              "      <td>509</td>\n",
              "      <td>2</td>\n",
              "    </tr>\n",
              "    <tr>\n",
              "      <th>3</th>\n",
              "      <td>V1003</td>\n",
              "      <td>2020 DXF</td>\n",
              "      <td>Y</td>\n",
              "      <td>Ford</td>\n",
              "      <td>Transit</td>\n",
              "      <td>Silver</td>\n",
              "      <td>974</td>\n",
              "      <td>2</td>\n",
              "    </tr>\n",
              "  </tbody>\n",
              "</table>\n",
              "</div>\n",
              "      <button class=\"colab-df-convert\" onclick=\"convertToInteractive('df-deb43c5e-8ddb-4de5-9abf-5fb7afbc8e44')\"\n",
              "              title=\"Convert this dataframe to an interactive table.\"\n",
              "              style=\"display:none;\">\n",
              "        \n",
              "  <svg xmlns=\"http://www.w3.org/2000/svg\" height=\"24px\"viewBox=\"0 0 24 24\"\n",
              "       width=\"24px\">\n",
              "    <path d=\"M0 0h24v24H0V0z\" fill=\"none\"/>\n",
              "    <path d=\"M18.56 5.44l.94 2.06.94-2.06 2.06-.94-2.06-.94-.94-2.06-.94 2.06-2.06.94zm-11 1L8.5 8.5l.94-2.06 2.06-.94-2.06-.94L8.5 2.5l-.94 2.06-2.06.94zm10 10l.94 2.06.94-2.06 2.06-.94-2.06-.94-.94-2.06-.94 2.06-2.06.94z\"/><path d=\"M17.41 7.96l-1.37-1.37c-.4-.4-.92-.59-1.43-.59-.52 0-1.04.2-1.43.59L10.3 9.45l-7.72 7.72c-.78.78-.78 2.05 0 2.83L4 21.41c.39.39.9.59 1.41.59.51 0 1.02-.2 1.41-.59l7.78-7.78 2.81-2.81c.8-.78.8-2.07 0-2.86zM5.41 20L4 18.59l7.72-7.72 1.47 1.35L5.41 20z\"/>\n",
              "  </svg>\n",
              "      </button>\n",
              "      \n",
              "  <style>\n",
              "    .colab-df-container {\n",
              "      display:flex;\n",
              "      flex-wrap:wrap;\n",
              "      gap: 12px;\n",
              "    }\n",
              "\n",
              "    .colab-df-convert {\n",
              "      background-color: #E8F0FE;\n",
              "      border: none;\n",
              "      border-radius: 50%;\n",
              "      cursor: pointer;\n",
              "      display: none;\n",
              "      fill: #1967D2;\n",
              "      height: 32px;\n",
              "      padding: 0 0 0 0;\n",
              "      width: 32px;\n",
              "    }\n",
              "\n",
              "    .colab-df-convert:hover {\n",
              "      background-color: #E2EBFA;\n",
              "      box-shadow: 0px 1px 2px rgba(60, 64, 67, 0.3), 0px 1px 3px 1px rgba(60, 64, 67, 0.15);\n",
              "      fill: #174EA6;\n",
              "    }\n",
              "\n",
              "    [theme=dark] .colab-df-convert {\n",
              "      background-color: #3B4455;\n",
              "      fill: #D2E3FC;\n",
              "    }\n",
              "\n",
              "    [theme=dark] .colab-df-convert:hover {\n",
              "      background-color: #434B5C;\n",
              "      box-shadow: 0px 1px 3px 1px rgba(0, 0, 0, 0.15);\n",
              "      filter: drop-shadow(0px 1px 2px rgba(0, 0, 0, 0.3));\n",
              "      fill: #FFFFFF;\n",
              "    }\n",
              "  </style>\n",
              "\n",
              "      <script>\n",
              "        const buttonEl =\n",
              "          document.querySelector('#df-deb43c5e-8ddb-4de5-9abf-5fb7afbc8e44 button.colab-df-convert');\n",
              "        buttonEl.style.display =\n",
              "          google.colab.kernel.accessAllowed ? 'block' : 'none';\n",
              "\n",
              "        async function convertToInteractive(key) {\n",
              "          const element = document.querySelector('#df-deb43c5e-8ddb-4de5-9abf-5fb7afbc8e44');\n",
              "          const dataTable =\n",
              "            await google.colab.kernel.invokeFunction('convertToInteractive',\n",
              "                                                     [key], {});\n",
              "          if (!dataTable) return;\n",
              "\n",
              "          const docLinkHtml = 'Like what you see? Visit the ' +\n",
              "            '<a target=\"_blank\" href=https://colab.research.google.com/notebooks/data_table.ipynb>data table notebook</a>'\n",
              "            + ' to learn more about interactive tables.';\n",
              "          element.innerHTML = '';\n",
              "          dataTable['output_type'] = 'display_data';\n",
              "          await google.colab.output.renderOutput(dataTable, element);\n",
              "          const docLink = document.createElement('div');\n",
              "          docLink.innerHTML = docLinkHtml;\n",
              "          element.appendChild(docLink);\n",
              "        }\n",
              "      </script>\n",
              "    </div>\n",
              "  </div>\n",
              "  "
            ]
          },
          "metadata": {},
          "execution_count": 42
        }
      ]
    },
    {
      "cell_type": "code",
      "source": [
        "# DB Connection Closing\n",
        "conn.close()"
      ],
      "metadata": {
        "id": "lbzSBEJ9S2Gv"
      },
      "execution_count": null,
      "outputs": []
    }
  ]
}